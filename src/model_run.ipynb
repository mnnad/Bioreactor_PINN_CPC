{
 "cells": [
  {
   "cell_type": "code",
   "execution_count": 4,
   "metadata": {},
   "outputs": [
    {
     "ename": "ModuleNotFoundError",
     "evalue": "No module named 'params'",
     "output_type": "error",
     "traceback": [
      "\u001b[1;31m---------------------------------------------------------------------------\u001b[0m",
      "\u001b[1;31mModuleNotFoundError\u001b[0m                       Traceback (most recent call last)",
      "\u001b[1;32mc:\\Users\\mnnadi1\\Desktop\\PINN project\\Bioreactor_PINN_CPC\\src\\model_run.ipynb Cell 1\u001b[0m line \u001b[0;36m6\n\u001b[0;32m      <a href='vscode-notebook-cell:/c%3A/Users/mnnadi1/Desktop/PINN%20project/Bioreactor_PINN_CPC/src/model_run.ipynb#W0sZmlsZQ%3D%3D?line=3'>4</a>\u001b[0m \u001b[39mimport\u001b[39;00m \u001b[39mpandas\u001b[39;00m \u001b[39mas\u001b[39;00m \u001b[39mpd\u001b[39;00m\n\u001b[0;32m      <a href='vscode-notebook-cell:/c%3A/Users/mnnadi1/Desktop/PINN%20project/Bioreactor_PINN_CPC/src/model_run.ipynb#W0sZmlsZQ%3D%3D?line=4'>5</a>\u001b[0m \u001b[39m#from data.data_read\u001b[39;00m\n\u001b[1;32m----> <a href='vscode-notebook-cell:/c%3A/Users/mnnadi1/Desktop/PINN%20project/Bioreactor_PINN_CPC/src/model_run.ipynb#W0sZmlsZQ%3D%3D?line=5'>6</a>\u001b[0m \u001b[39mfrom\u001b[39;00m \u001b[39mparams\u001b[39;00m\u001b[39m.\u001b[39;00m\u001b[39mparams\u001b[39;00m \u001b[39mimport\u001b[39;00m params\n\u001b[0;32m      <a href='vscode-notebook-cell:/c%3A/Users/mnnadi1/Desktop/PINN%20project/Bioreactor_PINN_CPC/src/model_run.ipynb#W0sZmlsZQ%3D%3D?line=6'>7</a>\u001b[0m \u001b[39mfrom\u001b[39;00m \u001b[39mparams\u001b[39;00m\u001b[39m.\u001b[39;00m\u001b[39mconfig_gpu\u001b[39;00m \u001b[39mimport\u001b[39;00m config_gpu\n\u001b[0;32m      <a href='vscode-notebook-cell:/c%3A/Users/mnnadi1/Desktop/PINN%20project/Bioreactor_PINN_CPC/src/model_run.ipynb#W0sZmlsZQ%3D%3D?line=7'>8</a>\u001b[0m \u001b[39mimport\u001b[39;00m \u001b[39mmatplotlib\u001b[39;00m\u001b[39m.\u001b[39;00m\u001b[39mpylab\u001b[39;00m \u001b[39mas\u001b[39;00m \u001b[39mplt\u001b[39;00m\n",
      "\u001b[1;31mModuleNotFoundError\u001b[0m: No module named 'params'"
     ]
    }
   ],
   "source": [
    "import time\n",
    "import tensorflow as tf\n",
    "import numpy as np\n",
    "import pandas as pd\n",
    "from data.data_read import data_read as dr\n",
    "from params.params import params\n",
    "from params.config_gpu import config_gpu\n",
    "import matplotlib.pylab as plt\n",
    "from pinn.pinn import PINN"
   ]
  },
  {
   "cell_type": "code",
   "execution_count": null,
   "metadata": {},
   "outputs": [
    {
     "ename": "ModuleNotFoundError",
     "evalue": "No module named 'params.params'",
     "output_type": "error",
     "traceback": [
      "\u001b[1;31m---------------------------------------------------------------------------\u001b[0m",
      "\u001b[1;31mModuleNotFoundError\u001b[0m                       Traceback (most recent call last)",
      "\u001b[1;32mc:\\Users\\mnnadi1\\Desktop\\PINN project\\Bioreactor_PINN_CPC\\src\\model_run.ipynb Cell 3\u001b[0m line \u001b[0;36m2\n\u001b[0;32m      <a href='vscode-notebook-cell:/c%3A/Users/mnnadi1/Desktop/PINN%20project/Bioreactor_PINN_CPC/src/model_run.ipynb#X13sZmlsZQ%3D%3D?line=0'>1</a>\u001b[0m \u001b[39m#import custom functions and classes\u001b[39;00m\n\u001b[1;32m----> <a href='vscode-notebook-cell:/c%3A/Users/mnnadi1/Desktop/PINN%20project/Bioreactor_PINN_CPC/src/model_run.ipynb#X13sZmlsZQ%3D%3D?line=1'>2</a>\u001b[0m \u001b[39mfrom\u001b[39;00m \u001b[39mparams\u001b[39;00m\u001b[39m.\u001b[39;00m\u001b[39mparams\u001b[39;00m \u001b[39mimport\u001b[39;00m params\n\u001b[0;32m      <a href='vscode-notebook-cell:/c%3A/Users/mnnadi1/Desktop/PINN%20project/Bioreactor_PINN_CPC/src/model_run.ipynb#X13sZmlsZQ%3D%3D?line=2'>3</a>\u001b[0m \u001b[39mfrom\u001b[39;00m \u001b[39mparams\u001b[39;00m\u001b[39m.\u001b[39;00m\u001b[39mconfig_gpu\u001b[39;00m \u001b[39mimport\u001b[39;00m config_gpu\n\u001b[0;32m      <a href='vscode-notebook-cell:/c%3A/Users/mnnadi1/Desktop/PINN%20project/Bioreactor_PINN_CPC/src/model_run.ipynb#X13sZmlsZQ%3D%3D?line=3'>4</a>\u001b[0m \u001b[39mfrom\u001b[39;00m \u001b[39mpinn\u001b[39;00m\u001b[39m.\u001b[39;00m\u001b[39mpinn\u001b[39;00m \u001b[39mimport\u001b[39;00m PINN\n",
      "\u001b[1;31mModuleNotFoundError\u001b[0m: No module named 'params.params'"
     ]
    }
   ],
   "source": [
    "train_x = dr.train_s_x\n",
    "train_y = dr.train_s_y\n",
    "\n",
    "valid_x = dr.valid_s_x\n",
    "valid_y = dr.valid_s_y\n",
    "\n",
    "test_x = dr.test_s_x\n",
    "test_y = dr.test_s_y\n"
   ]
  },
  {
   "cell_type": "code",
   "execution_count": null,
   "metadata": {},
   "outputs": [],
   "source": [
    "config_gpu(gpu_flg = 1)\n",
    "\n",
    "# params\n",
    "f_in, f_out, width, depth, \\\n",
    "w_init, b_init, act, \\\n",
    "lr, opt, \\\n",
    "f_scl, laaf, c, \\\n",
    "w_ini, w_bnd, w_pde, BC, \\\n",
    "f_mntr, r_seed, \\\n",
    "n_epch, n_btch, c_tol = params()"
   ]
  },
  {
   "cell_type": "code",
   "execution_count": null,
   "metadata": {},
   "outputs": [],
   "source": [
    "t_ini = train_x[:,:1]\n",
    "x_ini = train_x[:,1:2]\n",
    "n_ini = train_x[:,2:3]\n",
    "q_ini = train_x[:,3:]\n",
    "u_ini = train_y"
   ]
  },
  {
   "cell_type": "code",
   "execution_count": null,
   "metadata": {},
   "outputs": [],
   "source": [
    "##Training model\n",
    "pinn = PINN(t_ini, x_ini, n_ini, q_ini, u_ini,\n",
    "            f_in, f_out, width, depth, \n",
    "            w_init, b_init, act, \n",
    "            lr, opt, \n",
    "            f_scl, laaf, c, \n",
    "            w_ini, w_bnd, w_pde, BC, \n",
    "            f_mntr, r_seed)"
   ]
  },
  {
   "cell_type": "code",
   "execution_count": null,
   "metadata": {},
   "outputs": [],
   "source": [
    "t0 = time.time()\n",
    "with tf.device(\"/device:GPU:0\"):\n",
    "    pinn.train(epoch = n_epch, batch = n_btch, tol = c_tol)\n",
    "t1 = time.time()\n",
    "elps = t1 - t0\n",
    "print(\">>>>> elapse time for training (sec):\", elps)\n",
    "print(\">>>>> elapse time for training (min):\", elps / 60.)"
   ]
  },
  {
   "cell_type": "code",
   "execution_count": null,
   "metadata": {},
   "outputs": [],
   "source": [
    "### Verify whether the model is reasonable\n",
    "valid_x = tf.convert_to_tensor(valid_x, dtype = tf.float32)\n",
    "valid_result = pinn.forward_pass(valid_x).numpy()"
   ]
  },
  {
   "cell_type": "code",
   "execution_count": null,
   "metadata": {},
   "outputs": [],
   "source": [
    "##Test the performace of the model\n",
    "test_x = tf.convert_to_tensor(test_x, dtype = tf.float32)\n",
    "test_result = pinn.forward_pass(test_x).numpy()"
   ]
  },
  {
   "cell_type": "code",
   "execution_count": null,
   "metadata": {},
   "outputs": [],
   "source": [
    "t = list(i for i in range(16))\n",
    "# Plot the Prediction result\n",
    "plt.figure(figsize=(8, 6))\n",
    "plt.scatter(t, test_y[:,1], label='Experimental Data', color='blue')\n",
    "plt.plot(t, test_result[:,1], label='PINN Model', color='red')\n",
    "\n",
    "plt.xlabel('Time')\n",
    "plt.ylabel('Biomass Concentration')\n",
    "plt.legend()\n",
    "plt.show()"
   ]
  },
  {
   "cell_type": "code",
   "execution_count": null,
   "metadata": {},
   "outputs": [],
   "source": []
  }
 ],
 "metadata": {
  "kernelspec": {
   "display_name": "transferlearn",
   "language": "python",
   "name": "python3"
  },
  "language_info": {
   "codemirror_mode": {
    "name": "ipython",
    "version": 3
   },
   "file_extension": ".py",
   "mimetype": "text/x-python",
   "name": "python",
   "nbconvert_exporter": "python",
   "pygments_lexer": "ipython3",
   "version": "3.9.16"
  }
 },
 "nbformat": 4,
 "nbformat_minor": 2
}
