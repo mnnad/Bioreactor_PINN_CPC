{
 "cells": [
  {
   "cell_type": "code",
   "execution_count": 1,
   "metadata": {},
   "outputs": [],
   "source": [
    "\n",
    "import tensorflow as tf"
   ]
  },
  {
   "cell_type": "code",
   "execution_count": 2,
   "metadata": {},
   "outputs": [],
   "source": [
    "# network structure\n",
    "f_in  = 4\n",
    "f_out = 4\n",
    "width = 2 ** 6   # 2 ** 6 = 64, 2 ** 8 = 256\n",
    "depth = 2"
   ]
  },
  {
   "cell_type": "code",
   "execution_count": 3,
   "metadata": {},
   "outputs": [],
   "source": [
    "# training setting\n",
    "n_epch = int(2000)\n",
    "n_btch = 0\n",
    "c_tol  = 1e-8"
   ]
  },
  {
   "cell_type": "code",
   "execution_count": 4,
   "metadata": {},
   "outputs": [],
   "source": [
    "# initializers\n",
    "w_init = \"Glorot\"\n",
    "b_init = \"zeros\"\n",
    "act = \"gelu\""
   ]
  },
  {
   "cell_type": "code",
   "execution_count": 5,
   "metadata": {},
   "outputs": [],
   "source": [
    "# optimization\n",
    "lr0 = 5e-3\n",
    "gam = 1e-2\n",
    "lrd_exp = tf.keras.optimizers.schedules.ExponentialDecay(\n",
    "    initial_learning_rate = lr0, decay_steps = n_epch, decay_rate = gam, staircase=False)\n",
    "lrd_cos = tf.keras.optimizers.schedules.CosineDecay(\n",
    "    initial_learning_rate = lr0, decay_steps = n_epch, alpha = gam)\n",
    "lr  = 5e-4   # constant (1e-3 / 5e-4 / etc.) / lrd_exp / lrd_cos\n",
    "opt = \"Adam\"\n",
    "f_scl = \"minmax\"   # \"minmax\" / \"mean\"\n",
    "laaf = False"
   ]
  },
  {
   "cell_type": "code",
   "execution_count": 6,
   "metadata": {},
   "outputs": [],
   "source": [
    "# system params\n",
    "c = 1."
   ]
  },
  {
   "cell_type": "code",
   "execution_count": 7,
   "metadata": {},
   "outputs": [],
   "source": [
    "# weights\n",
    "w_ini = 1.\n",
    "w_bnd = 1.\n",
    "w_pde = 1."
   ]
  },
  {
   "cell_type": "code",
   "execution_count": 8,
   "metadata": {},
   "outputs": [],
   "source": [
    "# boundary condition \n",
    "BC = \"Neu\"   # \"Dir\" for Dirichlet, \"Neu\" for Neumann"
   ]
  },
  {
   "cell_type": "code",
   "execution_count": 9,
   "metadata": {},
   "outputs": [],
   "source": [
    "# rarely changed params\n",
    "f_mntr = 10\n",
    "r_seed = 1234"
   ]
  },
  {
   "cell_type": "code",
   "execution_count": 10,
   "metadata": {},
   "outputs": [],
   "source": [
    "def params():\n",
    "    return f_in, f_out, width, depth, w_init, b_init, act, lr, opt, f_scl, laaf, c, w_ini, w_bnd, w_pde, BC, f_mntr, r_seed, n_epch, n_btch, c_tol\n"
   ]
  },
  {
   "cell_type": "code",
   "execution_count": null,
   "metadata": {},
   "outputs": [],
   "source": []
  }
 ],
 "metadata": {
  "kernelspec": {
   "display_name": "transferlearn",
   "language": "python",
   "name": "python3"
  },
  "language_info": {
   "codemirror_mode": {
    "name": "ipython",
    "version": 3
   },
   "file_extension": ".py",
   "mimetype": "text/x-python",
   "name": "python",
   "nbconvert_exporter": "python",
   "pygments_lexer": "ipython3",
   "version": "3.9.16"
  }
 },
 "nbformat": 4,
 "nbformat_minor": 2
}
