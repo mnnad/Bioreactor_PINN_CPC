{
 "cells": [
  {
   "cell_type": "code",
   "execution_count": 1,
   "metadata": {},
   "outputs": [],
   "source": [
    "import tensorflow as tf\n",
    "from tensorflow.python.client import device_lib"
   ]
  },
  {
   "cell_type": "code",
   "execution_count": 3,
   "metadata": {},
   "outputs": [],
   "source": [
    "def config_gpu(gpu_flg):\n",
    "    # gpu configuration\n",
    "    tf.debugging.set_log_device_placement(False)   # True to check executing device carefully\n",
    "    gpus = tf.config.experimental.list_physical_devices(\"GPU\")\n",
    "    \n",
    "    if gpu_flg == 0:\n",
    "        print(\"gpu_flg:\", gpu_flg)\n",
    "        if gpus:\n",
    "            # Restrict TensorFlow to only use the first GPU\n",
    "            try:\n",
    "                tf.config.experimental.set_visible_devices(gpus[0], \"GPU\")\n",
    "                logical_gpus = tf.config.experimental.list_logical_devices(\"GPU\")\n",
    "                print(len(gpus), \"Physical GPUs,\", len(logical_gpus), \"Logical GPU\")\n",
    "            except RuntimeError as e:\n",
    "                # Visible devices must be set before GPUs have been initialized\n",
    "                print(e)\n",
    "               \n",
    "    elif gpu_flg == 1:\n",
    "        print(\"gpu_flg:\", gpu_flg)\n",
    "        if gpus:\n",
    "            # Find the first GPU, and restrict the memory usage (adaptive)\n",
    "            try:\n",
    "                tf.config.experimental.set_visible_devices(gpus[0], \"GPU\")\n",
    "                tf.config.experimental.set_memory_growth(gpus[0], True)\n",
    "                logical_gpus = tf.config.experimental.list_logical_devices(\"GPU\")\n",
    "                print(len(gpus), \"Physical GPUs,\", len(logical_gpus), \"Logical GPUs\")\n",
    "                print(\"\\nDevice information;\")\n",
    "                print(device_lib.list_local_devices())\n",
    "            except RuntimeError as e:\n",
    "                # Memory growth must be set before GPUs have been initialized\n",
    "                print(e)\n",
    "\n",
    "    elif gpu_flg == 2:\n",
    "        print(\"gpu_flg:\", gpu_flg)\n",
    "        if gpus:\n",
    "            # Create 2 virtual GPUs with 1GB memory each\n",
    "            try:\n",
    "                tf.config.experimental.set_virtual_device_configuration(\n",
    "                        gpus[0],\n",
    "                        [tf.config.experimental.VirtualDeviceConfiguration(memory_limit = 2 ** 10),\n",
    "                         tf.config.experimental.VirtualDeviceConfiguration(memory_limit = 2 ** 10)])\n",
    "                logical_gpus = tf.config.experimental.list_logical_devices(\"GPU\")\n",
    "                print(len(gpus), \"Physical GPU,\", len(logical_gpus), \"Logical GPUs\")\n",
    "                print(\"\\nDevice information;\")\n",
    "                print(device_lib.list_local_devices())\n",
    "            except RuntimeError as e:\n",
    "                # Virtual devices must be set before GPUs have been initialized\n",
    "                print(e)\n",
    "    \n",
    "    else:\n",
    "        raise NotImplementedError(\">>>>> gpu_config\")\n",
    "\n",
    "if __name__ == \"__model_run__\":\n",
    "    config_gpu()"
   ]
  }
 ],
 "metadata": {
  "kernelspec": {
   "display_name": "transferlearn",
   "language": "python",
   "name": "python3"
  },
  "language_info": {
   "codemirror_mode": {
    "name": "ipython",
    "version": 3
   },
   "file_extension": ".py",
   "mimetype": "text/x-python",
   "name": "python",
   "nbconvert_exporter": "python",
   "pygments_lexer": "ipython3",
   "version": "3.9.16"
  }
 },
 "nbformat": 4,
 "nbformat_minor": 2
}
