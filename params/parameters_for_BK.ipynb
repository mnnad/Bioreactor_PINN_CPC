{
 "cells": [
  {
   "cell_type": "code",
   "execution_count": 1,
   "metadata": {},
   "outputs": [],
   "source": [
    "import pandas as pd\n",
    "import numpy as np\n",
    "from scipy.optimize import curve_fit\n",
    "import matplotlib.pyplot as plt\n",
    "import sys"
   ]
  },
  {
   "cell_type": "code",
   "execution_count": 2,
   "metadata": {},
   "outputs": [],
   "source": [
    "# Read data from Excel file\n",
    "sys.path.append('../')\n",
    "data = pd.read_excel('../data/data.xlsx', 3)"
   ]
  },
  {
   "cell_type": "code",
   "execution_count": 3,
   "metadata": {},
   "outputs": [],
   "source": [
    "# Extract columns from the data\n",
    "t = data['time']  # Time column\n",
    "X = data['biomass']  # Biomass concentration column\n",
    "S = data['nitrate']  # Nitrogen concentration column\n",
    "P = data['pc']  # Intracellular nitrogen quota column"
   ]
  },
  {
   "cell_type": "code",
   "execution_count": 4,
   "metadata": {},
   "outputs": [],
   "source": [
    "# Define the Droop model function\n",
    "def droop_model(t, mu_max, K_S, P_crit):\n",
    "    return mu_max * (S / (K_S + S)) * (1 - (P / P_crit))"
   ]
  },
  {
   "cell_type": "code",
   "execution_count": 5,
   "metadata": {},
   "outputs": [],
   "source": [
    "# Initial parameter guesses\n",
    "initial_mu_max_guess = 0.1\n",
    "initial_K_S_guess = 1.0\n",
    "initial_P_crit_guess = 0.01"
   ]
  },
  {
   "cell_type": "code",
   "execution_count": 6,
   "metadata": {},
   "outputs": [],
   "source": [
    "# Fit the Droop model to the data\n",
    "params, covariance = curve_fit(droop_model, t, X, p0=(initial_mu_max_guess, initial_K_S_guess, initial_P_crit_guess))\n",
    "mu_max, K_S, P_crit = params"
   ]
  },
  {
   "cell_type": "code",
   "execution_count": 7,
   "metadata": {},
   "outputs": [],
   "source": [
    "# # Print the fitted parameters\n",
    "# print(f\"mu_max: {mu_max}\")\n",
    "# print(f\"K_S: {K_S}\")\n",
    "# print(f\"P_crit: {P_crit}\")"
   ]
  },
  {
   "cell_type": "code",
   "execution_count": 8,
   "metadata": {},
   "outputs": [],
   "source": [
    "# # Plot the experimental data and the fitted model\n",
    "# plt.figure(figsize=(8, 6))\n",
    "# plt.scatter(t, X, label='Experimental Data', color='blue')\n",
    "# plt.plot(t, droop_model(t, mu_max, K_S, P_crit), label='Fitted Droop Model', color='red')\n",
    "# plt.xlabel('Time')\n",
    "# plt.ylabel('Biomass Concentration')\n",
    "# plt.legend()\n",
    "# plt.show()"
   ]
  },
  {
   "cell_type": "code",
   "execution_count": null,
   "metadata": {},
   "outputs": [],
   "source": []
  }
 ],
 "metadata": {
  "kernelspec": {
   "display_name": "transferlearn",
   "language": "python",
   "name": "python3"
  },
  "language_info": {
   "codemirror_mode": {
    "name": "ipython",
    "version": 3
   },
   "file_extension": ".py",
   "mimetype": "text/x-python",
   "name": "python",
   "nbconvert_exporter": "python",
   "pygments_lexer": "ipython3",
   "version": "3.9.16"
  }
 },
 "nbformat": 4,
 "nbformat_minor": 2
}
