{
 "cells": [
  {
   "cell_type": "code",
   "execution_count": 5,
   "metadata": {},
   "outputs": [],
   "source": [
    "import numpy as np\n",
    "import pandas as pd"
   ]
  },
  {
   "cell_type": "code",
   "execution_count": 6,
   "metadata": {},
   "outputs": [],
   "source": [
    "def normalize(nor_data, need_data):\n",
    "    mean = np.mean(nor_data, 0)\n",
    "    std = np.std(nor_data, 0)\n",
    "    data_out = (need_data - mean)/std\n",
    "    return data_out\n",
    "\n",
    "\n",
    "\n",
    "data_train = np.array(pd.read_excel('data.xlsx', 0))\n",
    "data_validation = np.array(pd.read_excel('data.xlsx', 1))\n",
    "\n",
    "\n",
    "data_test = np.array(pd.read_excel('data.xlsx', 2))"
   ]
  },
  {
   "cell_type": "code",
   "execution_count": 7,
   "metadata": {},
   "outputs": [],
   "source": [
    "train_x = data_train[:,:4]\n",
    "train_y = data_train[:,4:]\n",
    "\n",
    "valid_x = data_validation[:,:4]\n",
    "valid_y = data_validation[:,4:]\n",
    "\n",
    "test_x = data_test[:,:4]\n",
    "test_y = data_test[:,4:]"
   ]
  },
  {
   "cell_type": "code",
   "execution_count": 8,
   "metadata": {},
   "outputs": [],
   "source": [
    "train_s_x = normalize(train_x, train_x)\n",
    "train_s_y = normalize(train_y, train_y)\n",
    "\n",
    "valid_s_x = normalize(train_x, valid_x)\n",
    "valid_s_y = normalize(train_y, valid_y)\n",
    "\n",
    "test_s_x = normalize(train_x, test_x)\n",
    "test_s_y = normalize(train_y, test_y)"
   ]
  },
  {
   "cell_type": "code",
   "execution_count": null,
   "metadata": {},
   "outputs": [],
   "source": []
  }
 ],
 "metadata": {
  "kernelspec": {
   "display_name": "transferlearn",
   "language": "python",
   "name": "python3"
  },
  "language_info": {
   "codemirror_mode": {
    "name": "ipython",
    "version": 3
   },
   "file_extension": ".py",
   "mimetype": "text/x-python",
   "name": "python",
   "nbconvert_exporter": "python",
   "pygments_lexer": "ipython3",
   "version": "3.9.16"
  }
 },
 "nbformat": 4,
 "nbformat_minor": 2
}
